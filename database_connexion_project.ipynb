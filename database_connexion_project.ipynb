{
 "cells": [
  {
   "cell_type": "code",
   "execution_count": 1,
   "id": "5bfb957b-68d5-4920-a709-8fbc304e0f6a",
   "metadata": {
    "canvas": {
     "comments": [],
     "componentType": "CodeCell",
     "copiedOriginId": null,
     "diskcache": false,
     "headerColor": "inherit",
     "id": "e8b6d6e9-8de2-452b-beed-0047c935b5fe",
     "isComponent": false,
     "name": "",
     "parents": []
    },
    "tags": []
   },
   "outputs": [],
   "source": [
    "import numpy as np\n",
    "import pandas as pd\n",
    "import matplotlib.pyplot as plt\n",
    "import seaborn as sns\n",
    "from sklearn.cluster import KMeans\n",
    "import pypyodbc as podbc           "
   ]
  },
  {
   "cell_type": "code",
   "execution_count": 91,
   "id": "7881178c-a734-428e-b79e-b595eedf203c",
   "metadata": {
    "canvas": {
     "comments": [],
     "componentType": "CodeCell",
     "copiedOriginId": null,
     "diskcache": false,
     "headerColor": "inherit",
     "id": "22a3954b-3c14-4b28-bb5d-1d6ed8be0783",
     "isComponent": false,
     "name": "",
     "parents": []
    }
   },
   "outputs": [],
   "source": [
    "driver = '{MySQL ODBC 8.0 ANSI Driver}' # MySQL ODBC 8.0 ANSI Driver\n",
    "server = 'localhost'\n",
    "database = 'gestion_notes_development'\n",
    "username = 'root'\n",
    "password = ''\n",
    "conn = podbc.connect(Driver=driver, Server=server, Database=database, Uid=username, Pwd=password)"
   ]
  },
  {
   "cell_type": "code",
   "execution_count": 103,
   "id": "dc7e12b6-ad95-4028-aa0b-2d24b698505a",
   "metadata": {
    "canvas": {
     "comments": [],
     "componentType": "CodeCell",
     "copiedOriginId": null,
     "diskcache": false,
     "headerColor": "inherit",
     "id": "e07b8056-a417-40b8-98fa-59172d1d3513",
     "isComponent": false,
     "name": "",
     "parents": []
    }
   },
   "outputs": [
    {
     "data": {
      "text/html": [
       "<div>\n",
       "<style scoped>\n",
       "    .dataframe tbody tr th:only-of-type {\n",
       "        vertical-align: middle;\n",
       "    }\n",
       "\n",
       "    .dataframe tbody tr th {\n",
       "        vertical-align: top;\n",
       "    }\n",
       "\n",
       "    .dataframe thead th {\n",
       "        text-align: right;\n",
       "    }\n",
       "</style>\n",
       "<table border=\"1\" class=\"dataframe\">\n",
       "  <thead>\n",
       "    <tr style=\"text-align: right;\">\n",
       "      <th></th>\n",
       "      <th>id</th>\n",
       "      <th>libelle</th>\n",
       "      <th>created_at</th>\n",
       "      <th>updated_at</th>\n",
       "    </tr>\n",
       "  </thead>\n",
       "  <tbody>\n",
       "    <tr>\n",
       "      <th>0</th>\n",
       "      <td>1</td>\n",
       "      <td>Directeur Général</td>\n",
       "      <td>2021-02-06 16:06:41.475579</td>\n",
       "      <td>2021-02-06 16:06:41.475579</td>\n",
       "    </tr>\n",
       "    <tr>\n",
       "      <th>1</th>\n",
       "      <td>2</td>\n",
       "      <td>Directeur des Enseignements</td>\n",
       "      <td>2021-02-06 16:06:41.515275</td>\n",
       "      <td>2021-02-06 16:06:41.515275</td>\n",
       "    </tr>\n",
       "    <tr>\n",
       "      <th>2</th>\n",
       "      <td>3</td>\n",
       "      <td>Coordonnateur de filière</td>\n",
       "      <td>2021-02-06 16:06:41.519194</td>\n",
       "      <td>2021-02-06 16:06:41.519194</td>\n",
       "    </tr>\n",
       "    <tr>\n",
       "      <th>3</th>\n",
       "      <td>4</td>\n",
       "      <td>Chef de departement</td>\n",
       "      <td>2021-02-06 16:06:41.522488</td>\n",
       "      <td>2021-02-06 16:06:41.522488</td>\n",
       "    </tr>\n",
       "    <tr>\n",
       "      <th>4</th>\n",
       "      <td>5</td>\n",
       "      <td>Enseignant</td>\n",
       "      <td>2021-02-06 16:06:41.525927</td>\n",
       "      <td>2021-02-06 16:06:41.525927</td>\n",
       "    </tr>\n",
       "    <tr>\n",
       "      <th>5</th>\n",
       "      <td>6</td>\n",
       "      <td>Admin</td>\n",
       "      <td>2021-02-06 16:06:41.529280</td>\n",
       "      <td>2021-02-06 16:06:41.529280</td>\n",
       "    </tr>\n",
       "  </tbody>\n",
       "</table>\n",
       "</div>"
      ],
      "text/plain": [
       "   id                      libelle                 created_at  \\\n",
       "0   1            Directeur Général 2021-02-06 16:06:41.475579   \n",
       "1   2  Directeur des Enseignements 2021-02-06 16:06:41.515275   \n",
       "2   3     Coordonnateur de filière 2021-02-06 16:06:41.519194   \n",
       "3   4          Chef de departement 2021-02-06 16:06:41.522488   \n",
       "4   5                   Enseignant 2021-02-06 16:06:41.525927   \n",
       "5   6                        Admin 2021-02-06 16:06:41.529280   \n",
       "\n",
       "                  updated_at  \n",
       "0 2021-02-06 16:06:41.475579  \n",
       "1 2021-02-06 16:06:41.515275  \n",
       "2 2021-02-06 16:06:41.519194  \n",
       "3 2021-02-06 16:06:41.522488  \n",
       "4 2021-02-06 16:06:41.525927  \n",
       "5 2021-02-06 16:06:41.529280  "
      ]
     },
     "execution_count": 103,
     "metadata": {},
     "output_type": "execute_result"
    }
   ],
   "source": [
    "df = pd.read_sql('''SELECT * FROM roles''', conn)\n",
    "df"
   ]
  },
  {
   "cell_type": "code",
   "execution_count": 68,
   "id": "519ea39f-7c3a-43bc-a317-5bf07fb8910d",
   "metadata": {
    "canvas": {
     "comments": [],
     "componentType": "CodeCell",
     "copiedOriginId": null,
     "diskcache": false,
     "headerColor": "inherit",
     "id": "a26ebf94-6606-4fe3-a615-070d20cc50a5",
     "isComponent": false,
     "name": "",
     "parents": []
    }
   },
   "outputs": [],
   "source": [
    "driver = '{Oracle dans OraDb11g_home1}'\n",
    "server = 'localhost'\n",
    "database = 'aerien_db'\n",
    "username = 'system'\n",
    "password = 'Oracle2014'\n",
    "conn1 = podbc.connect(Driver=driver, Server=server, Database=database, Uid=username, Pwd=password)"
   ]
  },
  {
   "cell_type": "code",
   "execution_count": 90,
   "id": "c8af1969-28c7-4175-a7df-2eabc20ab125",
   "metadata": {
    "canvas": {
     "comments": [],
     "componentType": "CodeCell",
     "copiedOriginId": null,
     "diskcache": false,
     "headerColor": "inherit",
     "id": "78654bcc-d4da-4b71-9d36-de94af80ad09",
     "isComponent": false,
     "name": "",
     "parents": []
    }
   },
   "outputs": [
    {
     "name": "stderr",
     "output_type": "stream",
     "text": [
      "C:\\Users\\Rostaing\\anaconda3\\lib\\site-packages\\pandas\\io\\sql.py:761: UserWarning: pandas only support SQLAlchemy connectable(engine/connection) ordatabase string URI or sqlite3 DBAPI2 connectionother DBAPI2 objects are not tested, please consider using SQLAlchemy\n",
      "  warnings.warn(\n"
     ]
    },
    {
     "data": {
      "text/html": [
       "<div>\n",
       "<style scoped>\n",
       "    .dataframe tbody tr th:only-of-type {\n",
       "        vertical-align: middle;\n",
       "    }\n",
       "\n",
       "    .dataframe tbody tr th {\n",
       "        vertical-align: top;\n",
       "    }\n",
       "\n",
       "    .dataframe thead th {\n",
       "        text-align: right;\n",
       "    }\n",
       "</style>\n",
       "<table border=\"1\" class=\"dataframe\">\n",
       "  <thead>\n",
       "    <tr style=\"text-align: right;\">\n",
       "      <th></th>\n",
       "      <th>id_emp</th>\n",
       "      <th>nom</th>\n",
       "      <th>prenom</th>\n",
       "      <th>date_naissance</th>\n",
       "      <th>genre</th>\n",
       "      <th>id_ser</th>\n",
       "      <th>id_ser</th>\n",
       "      <th>libelle</th>\n",
       "    </tr>\n",
       "  </thead>\n",
       "  <tbody>\n",
       "    <tr>\n",
       "      <th>0</th>\n",
       "      <td>1.0</td>\n",
       "      <td>Davila</td>\n",
       "      <td>Rostaing</td>\n",
       "      <td>2000-10-15</td>\n",
       "      <td>M</td>\n",
       "      <td>2.0</td>\n",
       "      <td>1.0</td>\n",
       "      <td>Sercice G?n?ral</td>\n",
       "    </tr>\n",
       "    <tr>\n",
       "      <th>1</th>\n",
       "      <td>2.0</td>\n",
       "      <td>Chris</td>\n",
       "      <td>Espira</td>\n",
       "      <td>1885-03-05</td>\n",
       "      <td>M</td>\n",
       "      <td>2.0</td>\n",
       "      <td>2.0</td>\n",
       "      <td>Sercice Technique</td>\n",
       "    </tr>\n",
       "    <tr>\n",
       "      <th>2</th>\n",
       "      <td>3.0</td>\n",
       "      <td>Banzouzi</td>\n",
       "      <td>Chistopher</td>\n",
       "      <td>1884-03-05</td>\n",
       "      <td>M</td>\n",
       "      <td>1.0</td>\n",
       "      <td>3.0</td>\n",
       "      <td>Sercice Commercial</td>\n",
       "    </tr>\n",
       "    <tr>\n",
       "      <th>3</th>\n",
       "      <td>4.0</td>\n",
       "      <td>Ng</td>\n",
       "      <td>Nova</td>\n",
       "      <td>2000-10-15</td>\n",
       "      <td>F</td>\n",
       "      <td>3.0</td>\n",
       "      <td>4.0</td>\n",
       "      <td>Sercice Financier</td>\n",
       "    </tr>\n",
       "    <tr>\n",
       "      <th>4</th>\n",
       "      <td>5.0</td>\n",
       "      <td>Julia</td>\n",
       "      <td>Dina</td>\n",
       "      <td>2008-07-10</td>\n",
       "      <td>F</td>\n",
       "      <td>4.0</td>\n",
       "      <td>5.0</td>\n",
       "      <td>Sercice Marketing</td>\n",
       "    </tr>\n",
       "  </tbody>\n",
       "</table>\n",
       "</div>"
      ],
      "text/plain": [
       "   id_emp       nom      prenom date_naissance genre  id_ser  id_ser  \\\n",
       "0     1.0    Davila    Rostaing     2000-10-15     M     2.0     1.0   \n",
       "1     2.0     Chris      Espira     1885-03-05     M     2.0     2.0   \n",
       "2     3.0  Banzouzi  Chistopher     1884-03-05     M     1.0     3.0   \n",
       "3     4.0        Ng        Nova     2000-10-15     F     3.0     4.0   \n",
       "4     5.0     Julia        Dina     2008-07-10     F     4.0     5.0   \n",
       "\n",
       "              libelle  \n",
       "0     Sercice G?n?ral  \n",
       "1   Sercice Technique  \n",
       "2  Sercice Commercial  \n",
       "3   Sercice Financier  \n",
       "4   Sercice Marketing  "
      ]
     },
     "execution_count": 90,
     "metadata": {},
     "output_type": "execute_result"
    }
   ],
   "source": [
    "dt = pd.read_sql('''SELECT * FROM employes e, services s WHERE e.id_emp = s.id_ser;''', conn1)\n",
    "dt"
   ]
  },
  {
   "cell_type": "code",
   "execution_count": 87,
   "id": "c6b635f3-d38e-4e96-bf6d-76bd3057e2a4",
   "metadata": {
    "canvas": {
     "comments": [],
     "componentType": "CodeCell",
     "copiedOriginId": null,
     "diskcache": false,
     "headerColor": "inherit",
     "id": "79338239-719d-4dac-a63a-accba48cb50f",
     "isComponent": false,
     "name": "",
     "parents": []
    }
   },
   "outputs": [
    {
     "data": {
      "text/plain": [
       "0   2000-10-15\n",
       "Name: date_naissance, dtype: datetime64[ns]"
      ]
     },
     "execution_count": 87,
     "metadata": {},
     "output_type": "execute_result"
    }
   ],
   "source": [
    "dt[\"date_naissance\"].mode()"
   ]
  },
  {
   "cell_type": "code",
   "execution_count": 124,
   "id": "5cf5f5c9-861a-4179-9f39-0aa2cc352555",
   "metadata": {
    "canvas": {
     "comments": [],
     "componentType": "CodeCell",
     "copiedOriginId": null,
     "diskcache": false,
     "headerColor": "inherit",
     "id": "1d93c850-4271-45a2-9f71-16b83a18839d",
     "isComponent": false,
     "name": "",
     "parents": []
    }
   },
   "outputs": [],
   "source": [
    "driver = '{SQLite3 ODBC Driver}'\n",
    "server = 'localhost'\n",
    "database = 'database.sqlite'\n",
    "trusted_connection = 'yes'\n",
    "conn2 = podbc.connect(Driver=driver, Server=server, Database=database, Trusted_connection=trusted_connection)"
   ]
  },
  {
   "cell_type": "code",
   "execution_count": 125,
   "id": "fd921e08-5fb4-47a5-9cc8-af889358e051",
   "metadata": {
    "canvas": {
     "comments": [],
     "componentType": "CodeCell",
     "copiedOriginId": null,
     "diskcache": false,
     "headerColor": "inherit",
     "id": "1464feb0-1ac6-441a-8c42-8c0042767bba",
     "isComponent": false,
     "name": "",
     "parents": []
    }
   },
   "outputs": [
    {
     "data": {
      "text/html": [
       "<div>\n",
       "<style scoped>\n",
       "    .dataframe tbody tr th:only-of-type {\n",
       "        vertical-align: middle;\n",
       "    }\n",
       "\n",
       "    .dataframe tbody tr th {\n",
       "        vertical-align: top;\n",
       "    }\n",
       "\n",
       "    .dataframe thead th {\n",
       "        text-align: right;\n",
       "    }\n",
       "</style>\n",
       "<table border=\"1\" class=\"dataframe\">\n",
       "  <thead>\n",
       "    <tr style=\"text-align: right;\">\n",
       "      <th></th>\n",
       "      <th>id</th>\n",
       "      <th>female</th>\n",
       "      <th>race</th>\n",
       "      <th>ses</th>\n",
       "      <th>schtyp</th>\n",
       "      <th>prog</th>\n",
       "      <th>read</th>\n",
       "      <th>write</th>\n",
       "      <th>math</th>\n",
       "      <th>science</th>\n",
       "      <th>socst</th>\n",
       "    </tr>\n",
       "  </thead>\n",
       "  <tbody>\n",
       "    <tr>\n",
       "      <th>0</th>\n",
       "      <td>70</td>\n",
       "      <td>0</td>\n",
       "      <td>4</td>\n",
       "      <td>1</td>\n",
       "      <td>1</td>\n",
       "      <td>1</td>\n",
       "      <td>57</td>\n",
       "      <td>52</td>\n",
       "      <td>41</td>\n",
       "      <td>47</td>\n",
       "      <td>57</td>\n",
       "    </tr>\n",
       "    <tr>\n",
       "      <th>1</th>\n",
       "      <td>121</td>\n",
       "      <td>1</td>\n",
       "      <td>4</td>\n",
       "      <td>2</td>\n",
       "      <td>1</td>\n",
       "      <td>3</td>\n",
       "      <td>68</td>\n",
       "      <td>59</td>\n",
       "      <td>53</td>\n",
       "      <td>63</td>\n",
       "      <td>61</td>\n",
       "    </tr>\n",
       "    <tr>\n",
       "      <th>2</th>\n",
       "      <td>86</td>\n",
       "      <td>0</td>\n",
       "      <td>4</td>\n",
       "      <td>3</td>\n",
       "      <td>1</td>\n",
       "      <td>1</td>\n",
       "      <td>44</td>\n",
       "      <td>33</td>\n",
       "      <td>54</td>\n",
       "      <td>58</td>\n",
       "      <td>31</td>\n",
       "    </tr>\n",
       "    <tr>\n",
       "      <th>3</th>\n",
       "      <td>141</td>\n",
       "      <td>0</td>\n",
       "      <td>4</td>\n",
       "      <td>3</td>\n",
       "      <td>1</td>\n",
       "      <td>3</td>\n",
       "      <td>63</td>\n",
       "      <td>44</td>\n",
       "      <td>47</td>\n",
       "      <td>53</td>\n",
       "      <td>56</td>\n",
       "    </tr>\n",
       "    <tr>\n",
       "      <th>4</th>\n",
       "      <td>172</td>\n",
       "      <td>0</td>\n",
       "      <td>4</td>\n",
       "      <td>2</td>\n",
       "      <td>1</td>\n",
       "      <td>2</td>\n",
       "      <td>47</td>\n",
       "      <td>52</td>\n",
       "      <td>57</td>\n",
       "      <td>53</td>\n",
       "      <td>61</td>\n",
       "    </tr>\n",
       "  </tbody>\n",
       "</table>\n",
       "</div>"
      ],
      "text/plain": [
       "    id  female  race  ses  schtyp  prog  read  write  math  science  socst\n",
       "0   70       0     4    1       1     1    57     52    41       47     57\n",
       "1  121       1     4    2       1     3    68     59    53       63     61\n",
       "2   86       0     4    3       1     1    44     33    54       58     31\n",
       "3  141       0     4    3       1     3    63     44    47       53     56\n",
       "4  172       0     4    2       1     2    47     52    57       53     61"
      ]
     },
     "execution_count": 125,
     "metadata": {},
     "output_type": "execute_result"
    }
   ],
   "source": [
    "df = pd.read_csv(\"Demo 2_ Perform hierarchical clustering.csv\")\n",
    "df.head()"
   ]
  },
  {
   "cell_type": "code",
   "execution_count": 126,
   "id": "8c0d5455-d116-47f5-a0f0-c32cb10a472f",
   "metadata": {
    "canvas": {
     "comments": [],
     "componentType": "CodeCell",
     "copiedOriginId": null,
     "diskcache": false,
     "headerColor": "inherit",
     "id": "52a17a4a-1720-4be0-a5b6-a977aadc2926",
     "isComponent": false,
     "name": "",
     "parents": []
    }
   },
   "outputs": [
    {
     "data": {
      "text/html": [
       "<div>\n",
       "<style scoped>\n",
       "    .dataframe tbody tr th:only-of-type {\n",
       "        vertical-align: middle;\n",
       "    }\n",
       "\n",
       "    .dataframe tbody tr th {\n",
       "        vertical-align: top;\n",
       "    }\n",
       "\n",
       "    .dataframe thead th {\n",
       "        text-align: right;\n",
       "    }\n",
       "</style>\n",
       "<table border=\"1\" class=\"dataframe\">\n",
       "  <thead>\n",
       "    <tr style=\"text-align: right;\">\n",
       "      <th></th>\n",
       "      <th>female</th>\n",
       "      <th>math</th>\n",
       "    </tr>\n",
       "  </thead>\n",
       "  <tbody>\n",
       "    <tr>\n",
       "      <th>0</th>\n",
       "      <td>0</td>\n",
       "      <td>41</td>\n",
       "    </tr>\n",
       "    <tr>\n",
       "      <th>1</th>\n",
       "      <td>1</td>\n",
       "      <td>53</td>\n",
       "    </tr>\n",
       "    <tr>\n",
       "      <th>2</th>\n",
       "      <td>0</td>\n",
       "      <td>54</td>\n",
       "    </tr>\n",
       "    <tr>\n",
       "      <th>3</th>\n",
       "      <td>0</td>\n",
       "      <td>47</td>\n",
       "    </tr>\n",
       "    <tr>\n",
       "      <th>4</th>\n",
       "      <td>0</td>\n",
       "      <td>57</td>\n",
       "    </tr>\n",
       "  </tbody>\n",
       "</table>\n",
       "</div>"
      ],
      "text/plain": [
       "   female  math\n",
       "0       0    41\n",
       "1       1    53\n",
       "2       0    54\n",
       "3       0    47\n",
       "4       0    57"
      ]
     },
     "execution_count": 126,
     "metadata": {},
     "output_type": "execute_result"
    }
   ],
   "source": [
    "X = df[[\"female\", \"math\"]]\n",
    "X.head()"
   ]
  },
  {
   "cell_type": "code",
   "execution_count": 127,
   "id": "df1815bd-3136-4e6d-9e00-5a9836327dc1",
   "metadata": {
    "canvas": {
     "comments": [],
     "componentType": "CodeCell",
     "copiedOriginId": null,
     "diskcache": false,
     "headerColor": "inherit",
     "id": "43fb98b8-abb8-4579-8119-91b4a0d40e53",
     "isComponent": false,
     "name": "",
     "parents": []
    }
   },
   "outputs": [
    {
     "name": "stdout",
     "output_type": "stream",
     "text": [
      "<class 'pandas.core.frame.DataFrame'>\n",
      "RangeIndex: 200 entries, 0 to 199\n",
      "Data columns (total 2 columns):\n",
      " #   Column  Non-Null Count  Dtype\n",
      "---  ------  --------------  -----\n",
      " 0   female  200 non-null    int64\n",
      " 1   math    200 non-null    int64\n",
      "dtypes: int64(2)\n",
      "memory usage: 3.2 KB\n"
     ]
    }
   ],
   "source": [
    "X.info()"
   ]
  },
  {
   "cell_type": "code",
   "execution_count": 128,
   "id": "d1cea040-0c1b-4d67-b654-44407e85f6f6",
   "metadata": {
    "canvas": {
     "comments": [],
     "componentType": "CodeCell",
     "copiedOriginId": null,
     "diskcache": false,
     "headerColor": "inherit",
     "id": "2d835968-94b5-46af-a137-2ec3de96ba58",
     "isComponent": false,
     "name": "",
     "parents": []
    }
   },
   "outputs": [
    {
     "data": {
      "text/plain": [
       "(200, 2)"
      ]
     },
     "execution_count": 128,
     "metadata": {},
     "output_type": "execute_result"
    }
   ],
   "source": [
    "X.shape"
   ]
  },
  {
   "cell_type": "code",
   "execution_count": 129,
   "id": "d296e414-8529-4e08-b362-0b47b4aaf97e",
   "metadata": {
    "canvas": {
     "comments": [],
     "componentType": "CodeCell",
     "copiedOriginId": null,
     "diskcache": false,
     "headerColor": "inherit",
     "id": "2d545193-8464-4095-8f7f-364ca48bc382",
     "isComponent": false,
     "name": "",
     "parents": []
    }
   },
   "outputs": [
    {
     "data": {
      "text/plain": [
       "1    109\n",
       "0     91\n",
       "Name: female, dtype: int64"
      ]
     },
     "execution_count": 129,
     "metadata": {},
     "output_type": "execute_result"
    }
   ],
   "source": [
    "X[\"female\"].value_counts()"
   ]
  },
  {
   "cell_type": "code",
   "execution_count": 130,
   "id": "bbf7be6d-02c6-47d8-abce-94de81ee8462",
   "metadata": {
    "canvas": {
     "comments": [],
     "componentType": "CodeCell",
     "copiedOriginId": null,
     "diskcache": false,
     "headerColor": "inherit",
     "id": "75b32dde-28cb-4dc0-b182-eaca80f4dfb8",
     "isComponent": false,
     "name": "",
     "parents": []
    }
   },
   "outputs": [
    {
     "data": {
      "text/plain": [
       "57    13\n",
       "49    10\n",
       "54    10\n",
       "40    10\n",
       "46     8\n",
       "51     8\n",
       "45     8\n",
       "50     7\n",
       "61     7\n",
       "43     7\n",
       "41     7\n",
       "53     7\n",
       "42     7\n",
       "56     7\n",
       "52     6\n",
       "39     6\n",
       "58     6\n",
       "48     5\n",
       "55     5\n",
       "63     5\n",
       "64     5\n",
       "60     5\n",
       "71     4\n",
       "44     4\n",
       "62     4\n",
       "66     4\n",
       "72     3\n",
       "65     3\n",
       "47     3\n",
       "67     2\n",
       "69     2\n",
       "38     2\n",
       "59     2\n",
       "75     2\n",
       "73     1\n",
       "70     1\n",
       "35     1\n",
       "68     1\n",
       "37     1\n",
       "33     1\n",
       "Name: math, dtype: int64"
      ]
     },
     "execution_count": 130,
     "metadata": {},
     "output_type": "execute_result"
    }
   ],
   "source": [
    "X[\"math\"].value_counts()"
   ]
  },
  {
   "cell_type": "code",
   "execution_count": 132,
   "id": "4e8329b6-5c67-4a49-860e-1e1cddbec75c",
   "metadata": {
    "canvas": {
     "comments": [],
     "componentType": "CodeCell",
     "copiedOriginId": null,
     "diskcache": false,
     "headerColor": "inherit",
     "id": "fb7ffed0-3c6d-48a9-a428-d3c618bfdbc9",
     "isComponent": false,
     "name": "",
     "parents": []
    }
   },
   "outputs": [
    {
     "name": "stderr",
     "output_type": "stream",
     "text": [
      "C:\\Users\\Rostaing\\anaconda3\\lib\\site-packages\\sklearn\\cluster\\_kmeans.py:1036: UserWarning: KMeans is known to have a memory leak on Windows with MKL, when there are less chunks than available threads. You can avoid it by setting the environment variable OMP_NUM_THREADS=1.\n",
      "  warnings.warn(\n"
     ]
    },
    {
     "data": {
      "image/png": "[encoded data removed]",
      "text/plain": [
       "<Figure size 432x288 with 1 Axes>"
      ]
     },
     "metadata": {
      "needs_background": "light"
     },
     "output_type": "display_data"
    }
   ],
   "source": [
    "inertia = []\n",
    "k_range = range(1, 20)\n",
    "\n",
    "for k in k_range:\n",
    "    km = KMeans(n_clusters=k, init=\"k-means++\", random_state=0).fit(X)\n",
    "    inertia.append(km.inertia_)\n",
    "    \n",
    "plt.plot(k_range, inertia);\n",
    "plt.title(\"Elbow Method\");"
   ]
  },
  {
   "cell_type": "code",
   "execution_count": 150,
   "id": "14d4f35b-c671-4d0f-8914-afbae3083058",
   "metadata": {
    "canvas": {
     "comments": [],
     "componentType": "CodeCell",
     "copiedOriginId": null,
     "diskcache": false,
     "headerColor": "inherit",
     "id": "f2810451-fc2d-4aa2-abd2-85cd9042103d",
     "isComponent": false,
     "name": "",
     "parents": []
    }
   },
   "outputs": [
    {
     "data": {
      "text/plain": [
       "array([0, 2, 2, 2, 1, 2, 0, 0, 2, 2, 2, 2, 3, 1, 2, 0, 2, 1, 1, 1, 0, 3,\n",
       "       0, 1, 0, 0, 3, 1, 2, 2, 1, 1, 1, 1, 2, 1, 3, 3, 0, 0, 0, 1, 1, 0,\n",
       "       2, 1, 0, 3, 1, 1, 1, 0, 1, 2, 3, 0, 0, 0, 2, 2, 0, 1, 0, 0, 2, 0,\n",
       "       1, 2, 1, 2, 0, 1, 3, 1, 0, 0, 2, 1, 0, 2, 1, 2, 3, 2, 0, 1, 2, 0,\n",
       "       0, 1, 3, 2, 3, 2, 0, 1, 3, 3, 0, 3, 1, 1, 2, 2, 2, 3, 3, 0, 0, 3,\n",
       "       0, 0, 1, 1, 1, 0, 2, 1, 1, 0, 2, 0, 2, 2, 0, 1, 0, 2, 1, 0, 2, 3,\n",
       "       1, 2, 2, 1, 2, 2, 0, 2, 0, 2, 2, 2, 1, 0, 0, 0, 0, 0, 0, 1, 0, 2,\n",
       "       1, 1, 2, 2, 0, 3, 2, 2, 2, 3, 2, 0, 2, 0, 1, 2, 0, 0, 0, 1, 0, 3,\n",
       "       1, 2, 0, 1, 2, 2, 1, 2, 3, 1, 2, 0, 1, 2, 0, 0, 2, 0, 1, 2, 0, 1,\n",
       "       1, 3])"
      ]
     },
     "execution_count": 150,
     "metadata": {},
     "output_type": "execute_result"
    }
   ],
   "source": [
    "model = KMeans(n_clusters=4, init=\"k-means++\", random_state=0)\n",
    "model.fit(X)\n",
    "predictions = model.predict(X)\n",
    "predictions"
   ]
  },
  {
   "cell_type": "code",
   "execution_count": 145,
   "id": "df123a45-af99-459e-9cde-5312c4e63ece",
   "metadata": {
    "canvas": {
     "comments": [],
     "componentType": "CodeCell",
     "copiedOriginId": null,
     "diskcache": false,
     "headerColor": "inherit",
     "id": "d64e53e6-2a32-4bc2-82af-1255d83eac17",
     "isComponent": false,
     "name": "",
     "parents": []
    }
   },
   "outputs": [],
   "source": [
    "from sklearn.metrics import silhouette_score"
   ]
  },
  {
   "cell_type": "code",
   "execution_count": 147,
   "id": "fa2c4abe-1314-4be2-bf49-20da91316cb2",
   "metadata": {
    "canvas": {
     "comments": [],
     "componentType": "CodeCell",
     "copiedOriginId": null,
     "diskcache": false,
     "headerColor": "inherit",
     "id": "180e7c19-083e-43f1-bf8f-acce4d36bb16",
     "isComponent": false,
     "name": "",
     "parents": []
    }
   },
   "outputs": [
    {
     "data": {
      "text/plain": [
       "0.5730565645178796"
      ]
     },
     "execution_count": 147,
     "metadata": {},
     "output_type": "execute_result"
    }
   ],
   "source": [
    "label = model.labels_\n",
    "silhouette_score(X, label)"
   ]
  },
  {
   "cell_type": "code",
   "execution_count": null,
   "id": "709db2fe-0c84-4f85-b9e5-98b243a76999",
   "metadata": {
    "canvas": {
     "comments": [],
     "componentType": "CodeCell",
     "copiedOriginId": null,
     "diskcache": false,
     "headerColor": "inherit",
     "id": "8e8050ca-47e2-4052-abff-a596544cbe73",
     "isComponent": false,
     "name": "",
     "parents": []
    }
   },
   "outputs": [],
   "source": [
    "driver = '{MongoDB ODBC 1.4.3 ANSI Driver}' # MySQL ODBC 8.0 ANSI Driver\n",
    "server = 'localhost'\n",
    "port = '27017'\n",
    "database = 'test'\n",
    "username = 'root'\n",
    "password = ''\n",
    "conn = podbc.connect(Driver=driver, Server=server, Port=port, Database=database, Uid=username, Pwd=password)"
   ]
  },
  {
   "cell_type": "code",
   "execution_count": null,
   "id": "84d1a83f-7faa-4f2f-8c59-a191ac9a3ec9",
   "metadata": {
    "canvas": {
     "comments": [],
     "componentType": "CodeCell",
     "copiedOriginId": null,
     "diskcache": false,
     "headerColor": "inherit",
     "id": "210e0a22-3f2d-4c96-b38b-c20bb7de890c",
     "isComponent": false,
     "name": "",
     "parents": []
    }
   },
   "outputs": [],
   "source": [
    "dm = pd.read_sql('''db.agents.find()''', conn)\n",
    "dm"
   ]
  }
 ],
 "metadata": {
  "canvas": {
   "colorPalette": [
    "inherit",
    "inherit",
    "inherit",
    "inherit",
    "inherit",
    "inherit",
    "inherit",
    "inherit",
    "inherit",
    "inherit"
   ],
   "parameters": [],
   "version": "1.0"
  },
  "kernelspec": {
   "display_name": "Python 3 (ipykernel)",
   "language": "python",
   "name": "python3"
  },
  "language_info": {
   "codemirror_mode": {
    "name": "ipython",
    "version": 3
   },
   "file_extension": ".py",
   "mimetype": "text/x-python",
   "name": "python",
   "nbconvert_exporter": "python",
   "pygments_lexer": "ipython3",
   "version": "3.9.18"
  },
  "widgets": {
   "application/vnd.jupyter.widget-state+json": {
    "state": {},
    "version_major": 2,
    "version_minor": 0
   }
  }
 },
 "nbformat": 4,
 "nbformat_minor": 5
}
